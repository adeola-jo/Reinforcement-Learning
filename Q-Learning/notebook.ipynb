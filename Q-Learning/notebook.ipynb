{
  "cells": [
    {
      "cell_type": "markdown",
      "metadata": {
        "id": "oTBbTsk4vGkY"
      },
      "source": [
        "# **Robot Learning – Reinforcement Learning**"
      ]
    },
    {
      "cell_type": "markdown",
      "metadata": {
        "id": "qCnQbiFVvG0A"
      },
      "source": [
        "The goal of this practical exercise is to implement a Reinforcement Learning algorithm to learn a policy that moves a robot to a goal position. The algorithm is the Q-learning algorithm.\n",
        "\n",
        "## The Problem \n",
        "The problem consists in finding the goal in a finite 2D environment that is closed and contains some obstacles. \n",
        "\n",
        "**States and actions:** The size of the environment is 20x14=280 states. The robot can only do 4 different actions: {←, ↑, →, ↓} (not diagonal movements!). Therefore the size of the Q function will be 280x4=1120 cells.\n",
        "\n",
        "**Dynamics:** The robot can be located in any free cell (not in the obstacle cells!). The function that describes the dynamics is very simple: the robot will move ONE cell per iteration to the direction of the action that we select, unless there is an obstacle or the wall in front of it, in which case it will\n",
        "stay in the same position.\n",
        "\n",
        "**Reinforcement function:** Since the goal is to reach the goal position as fast as possible, the reinforcement function will give -1 in all cells except in the goal cell, where the reward will be +1. The cell that contains the goal is (3,17)."
      ]
    },
    {
      "cell_type": "markdown",
      "metadata": {
        "id": "GIrgWmuPulz-"
      },
      "source": [
        "## Data"
      ]
    },
    {
      "cell_type": "markdown",
      "metadata": {
        "id": "9so0pzxsvUyn"
      },
      "source": [
        "Next you have the map that will be used as the environment for the Q-learning algorithm:"
      ]
    },
    {
      "cell_type": "code",
      "execution_count": 17,
      "metadata": {
        "colab": {
          "base_uri": "https://localhost:8080/",
          "height": 281
        },
        "id": "CggQ83Bzul0E",
        "outputId": "6e947d5d-357a-48a0-8176-fb7826834b67"
      },
      "outputs": [
        {
          "data": {
            "text/plain": [
              "<matplotlib.colorbar.Colorbar at 0x7fa1e8e38cd0>"
            ]
          },
          "execution_count": 17,
          "metadata": {},
          "output_type": "execute_result"
        },
        {
          "data": {
            "image/png": "[encoded data removed]",
            "text/plain": [
              "<Figure size 411.429x288 with 2 Axes>"
            ]
          },
          "metadata": {
            "needs_background": "light"
          },
          "output_type": "display_data"
        }
      ],
      "source": [
        "from matplotlib import pyplot as plt\n",
        "import numpy as np\n",
        "\n",
        "# Proposed Map \n",
        "map=[\n",
        "[1, 1, 1, 1, 1, 1, 1, 1, 1, 1, 1, 1, 1, 1, 1, 1, 1, 1, 1, 1],\n",
        "[1, 0, 0, 0, 0, 0, 1, 1, 0, 0, 0, 0, 0, 0, 1, 1, 0, 0, 0, 1],\n",
        "[1, 0, 0, 0, 0, 0, 1, 1, 0, 0, 0, 0, 0, 0, 1, 1, 0, 0, 0, 1],\n",
        "[1, 0, 0, 0, 0, 0, 0, 0, 0, 0, 0, 0, 0, 0, 1, 1, 0, 0, 0, 1],\n",
        "[1, 0, 0, 0, 0, 0, 0, 0, 0, 0, 0, 0, 0, 0, 1, 1, 0, 0, 0, 1],\n",
        "[1, 0, 0, 0, 0, 0, 0, 0, 0, 0, 0, 0, 0, 0, 1, 1, 0, 0, 0, 1],\n",
        "[1, 0, 0, 0, 1, 1, 1, 1, 1, 0, 0, 0, 0, 0, 1, 1, 0, 0, 0, 1],\n",
        "[1, 0, 0, 0, 1, 1, 1, 1, 1, 0, 0, 0, 0, 0, 0, 0, 0, 0, 0, 1],\n",
        "[1, 0, 0, 0, 0, 0, 0, 1, 1, 0, 0, 0, 0, 0, 0, 0, 0, 0, 0, 1],\n",
        "[1, 0, 0, 0, 0, 0, 0, 1, 1, 0, 0, 0, 0, 0, 0, 0, 0, 0, 0, 1],\n",
        "[1, 0, 0, 0, 0, 0, 0, 0, 0, 0, 0, 0, 0, 0, 1, 0, 0, 0, 0, 1],\n",
        "[1, 0, 0, 0, 0, 0, 0, 0, 0, 0, 0, 0, 0, 1, 1, 0, 0, 0, 0, 1],\n",
        "[1, 0, 0, 0, 0, 0, 0, 0, 0, 0, 0, 0, 1, 1, 1, 0, 0, 0, 0, 1],\n",
        "[1, 1, 1, 1, 1, 1, 1, 1, 1, 1, 1, 1, 1, 1, 1, 1, 1, 1, 1, 1]]\n",
        "\n",
        "\n",
        "# Convert Map 2D array to Numpy array\n",
        "grid_map = np.array(map)\n",
        "\n",
        "# Show grid map\n",
        "plt.matshow(grid_map, cmap = \"jet\")\n",
        "plt.title('Original Map')\n",
        "plt.colorbar()\n"
      ]
    },
    {
      "cell_type": "markdown",
      "metadata": {
        "id": "luRN-DT83C7j"
      },
      "source": [
        "## Algorithm\n",
        "\n",
        "In order to implement the Q-learning algorithm, you should follow the next pseudocode:\n",
        "\n",
        "*Initialize Q(s,a) to “0”*\n",
        "\n",
        ">*For n episodes*\n",
        "\n",
        ">>*Initialize s randomly in any free cell*\n",
        "\n",
        ">>*For m iterations repeat*\n",
        "\n",
        ">>>*Choose a following ε-greedy policy*\n",
        "\n",
        ">>>*Take action a, observe r, s’*\n",
        "\n",
        ">>>*Q(s,a)←Q(s,a) + α ( r + γ · maxQ_a’(s’,a’)-Q(s,a))*\n",
        "\n",
        ">>>*s←s’*\n",
        "\n",
        ">>>*if the goal is achieved then finish the episode*\n",
        "\n",
        ">>*endFor*\n",
        "\n",
        "*endFor*\n",
        "\n",
        "\n",
        "You will have to set several parameters experimentally: n, m, ε, α and γ.\n",
        "\n",
        "\n"
      ]
    },
    {
      "cell_type": "code",
      "execution_count": 18,
      "metadata": {
        "colab": {
          "base_uri": "https://localhost:8080/"
        },
        "id": "GsYjfLIeALib",
        "outputId": "c68bfa5b-8c41-45cf-fbaa-ee956682f3e6"
      },
      "outputs": [
        {
          "name": "stdout",
          "output_type": "stream",
          "text": [
            "\n"
          ]
        }
      ],
      "source": [
        "import random\n",
        "print()"
      ]
    },
    {
      "cell_type": "markdown",
      "metadata": {
        "id": "O_BIOfiSul0H"
      },
      "source": [
        "## Environment"
      ]
    },
    {
      "cell_type": "markdown",
      "metadata": {
        "id": "45Wso3k5x0ab"
      },
      "source": [
        "In the environment class, you set the possible actions, the rewards obtained depending of those actions and the state of the agent after the action is applied.\n",
        "\n",
        "You have to fill the empty functions following the previous pseudocode."
      ]
    },
    {
      "cell_type": "code",
      "execution_count": 19,
      "metadata": {
        "id": "LXZAnv09ul0I"
      },
      "outputs": [],
      "source": [
        "class MapEnv:\n",
        "    def __init__(self, map, goal):\n",
        "        self.map = map\n",
        "        self.current_state = self.get_start()\n",
        "        self.goal = [goal[0].astype(np.int32), goal[1].astype(np.int32)]\n",
        "        self.actions = 4\n",
        "        if map[goal[0], goal[1]] != 0:\n",
        "            raise ValueError(\"Goal position is an obstacle\")\n",
        "\n",
        "    def reset(self):\n",
        "        self.current_state = self.get_start()\n",
        "        return self.current_state\n",
        "        \n",
        "    def get_start(self): \n",
        "      # start the agent in a random position within the map: \n",
        "      start_x = np.random.randint(0, self.map.shape[0])\n",
        "      start_y = np.random.randint(0, self.map.shape[1])\n",
        "      while self.map[start_x, start_y] == 1:\n",
        "        start_x = np.random.randint(0, self.map.shape[0])\n",
        "        start_y = np.random.randint(0, self.map.shape[1])\n",
        "      return [start_x, start_y]\n",
        "        \n",
        "    \n",
        "    def step(self, action): \n",
        "      # this function applies the action taken and returns the next state, the reward and a variable that says if the goal is reached\n",
        "      # action: 0 = up, 1 = down, 2 = left, 3 = right\n",
        "      #applies the action taken and returns the next state, reward, and goal status\n",
        "\n",
        "      if action == 0:\n",
        "        next_state = [(self.current_state[0] - 1), self.current_state[1]]\n",
        "        if self.map[next_state[0], next_state[1]] == 1:\n",
        "          next_state = self.current_state\n",
        "\n",
        "      elif action == 1:\n",
        "        next_state = [(self.current_state[0] + 1), self.current_state[1]]\n",
        "        if self.map[next_state[0],next_state[1]] == 1:\n",
        "          next_state = self.current_state\n",
        "        \n",
        "      elif action == 2:\n",
        "        next_state = [self.current_state[0], (self.current_state[1] - 1)]\n",
        "        if self.map[next_state[0],next_state[1]] == 1:\n",
        "          next_state = self.current_state\n",
        "\n",
        "      elif action == 3:\n",
        "        next_state = [self.current_state[0], (self.current_state[1] + 1)]\n",
        "        if self.map[next_state[0], next_state[1]] == 1:\n",
        "          next_state = self.current_state\n",
        "      \n",
        "      # assigns the reward of the agent's new state\n",
        "      if next_state == self.goal:\n",
        "        reward = 1\n",
        "        is_goal_reached = True\n",
        "      else:\n",
        "        reward = -1\n",
        "        is_goal_reached = False\n",
        "      \n",
        "      # update the current state\n",
        "      self.current_state = next_state\n",
        "\n",
        "      return next_state, reward, is_goal_reached\n",
        "\n",
        "\n",
        "\n",
        "\n",
        "    \n",
        "    def render(self, i=0):\n",
        "        plt.matshow(self.map, cmap = \"jet\")\n",
        "        plt.title('Map')\n",
        "        plt.colorbar()\n",
        "        plt.scatter(self.current_state[1], self.current_state[0], c = 'r')\n",
        "        plt.scatter(self.goal[1], self.goal[0], c = 'g')\n",
        "        plt.savefig(\"q_learning_{0:04}.png\".format(i), dpi = 300)\n",
        "        plt.show()\n",
        "\n",
        "\n",
        "\n",
        "        "
      ]
    },
    {
      "cell_type": "markdown",
      "metadata": {
        "id": "vj_OU5RTVR0n"
      },
      "source": []
    },
    {
      "cell_type": "markdown",
      "metadata": {
        "id": "OXg1_4u6ul0K"
      },
      "source": [
        "## QLearning algorithm"
      ]
    },
    {
      "cell_type": "markdown",
      "metadata": {
        "id": "k7uF89DbFVVq"
      },
      "source": [
        "QLearning class creates and trains the policy at every episode using the information provided by the environment. After the training is over, the optimal policy and the value function are obtained.\n",
        "\n",
        "As in the MapEnv class, you have to fill the empty functions following the previous pseudocode."
      ]
    },
    {
      "cell_type": "code",
      "execution_count": 20,
      "metadata": {
        "id": "3qnWaAKPul0L"
      },
      "outputs": [],
      "source": [
        "from itertools import filterfalse\n",
        "class QLearning:\n",
        "    def __init__(self, env, alpha, gamma, epsilon, n_episodes, n_iterations):\n",
        "        self.env = env\n",
        "        self.alpha = alpha\n",
        "        self.gamma = gamma\n",
        "        self.epsilon = epsilon\n",
        "        self.n_episodes = n_episodes\n",
        "        self.n_iterations = n_iterations\n",
        "        self.Q = np.random.rand(env.map.shape[0], env.map.shape[1], env.actions)\n",
        "    \n",
        "    def epsilon_greedy_policy(self, s, epsilon): \n",
        "      # Epsilon greedy policy (choose a random action with probability epsilon)\n",
        "      # choose a random value between 0 and 1\n",
        "      x = np.random.random()\n",
        "      if x > epsilon:\n",
        "        # choose the action with the most promising reward from the q_value table\n",
        "        action = np.argmax(self.Q[s[0],s[1]])\n",
        "      else:\n",
        "        # choose a random action\n",
        "        action = random.choice([0,1,2,3])\n",
        "      return action\n",
        "\n",
        "\n",
        "        \n",
        "    def episode(self, alpha, epsilon): \n",
        "      # Episode execution for n_iterations. Generate an action with epsilon_greedy_policy, \n",
        "\n",
        "      #get a start position for the first episode and reset it for each episode using the \n",
        "      state = self.env.reset()\n",
        "      is_goal_reached = filterfalse\n",
        "      total_reward = 0\n",
        "\n",
        "      for i in range(self.n_iterations):\n",
        "\n",
        "        # use the epsilon-greedy policy to choose an action\n",
        "        action = self.epsilon_greedy_policy(state, epsilon)\n",
        "        # print(action)\n",
        "        \n",
        "        # use the chosen action to move to the next state\n",
        "        next_state, reward, is_goal_reached = self.env.step(action) \n",
        "        self.env.current_state = next_state\n",
        "    \n",
        "        self.Q[state[0], state[1],action] = self.Q[state[0], state[1], action] + self.alpha * (reward + self.gamma * np.max(self.Q[next_state[0], next_state[1], :]) - self.Q[state[0], state[1],action])\n",
        "        total_reward += reward\n",
        "        state = next_state\n",
        "\n",
        "        if is_goal_reached == True:\n",
        "          return total_reward \n",
        "\n",
        "      return total_reward\n",
        "\n",
        "\n",
        "    def train(self, check_every_n_episodes=200, average_n_episodes=50): \n",
        "        \"\"\"Execute n_episodes and every 200 episodes stop training in order to retrieve \n",
        "            the average reward for 100 episodes, then resume training\"\"\"\n",
        "\n",
        "        accumulated_rewards = []\n",
        "        for i in range(self.n_episodes):  \n",
        "            self.episode(self.alpha, self.epsilon)\n",
        "            \n",
        "            if i % check_every_n_episodes == 0:\n",
        "                accum_reward = 0\n",
        "                for j in range(average_n_episodes): \n",
        "                    total_reward = self.episode(0, 0)\n",
        "                    accum_reward += total_reward\n",
        "                accumulated_rewards.append(accum_reward / average_n_episodes)\n",
        "                print(accumulated_rewards[-1], end=\" \")\n",
        "                \n",
        "        return accumulated_rewards\n",
        "    \n",
        "    def get_optimal_policy(self): \n",
        "        \"\"\"Retrieve the optimal policy from Q(s,a)\"\"\"\n",
        "        policy = np.argmax(self.Q, axis = 2)\n",
        "        policy[self.env.map == 1] = -1\n",
        "        policy[self.env.goal[0], self.env.goal[1]] = -2\n",
        "        return policy\n",
        "        \n",
        "    def value_function(self): \n",
        "        \"\"\"Retrieve the optimal value function from from Q(s,a)\"\"\"\n",
        "        v = np.max(self.Q, axis = 2)\n",
        "        v[self.env.map == 1] = -np.inf\n",
        "        return v\n"
      ]
    },
    {
      "cell_type": "markdown",
      "metadata": {
        "id": "MHXBD26aul0N"
      },
      "source": [
        "## Training"
      ]
    },
    {
      "cell_type": "markdown",
      "metadata": {
        "id": "7U2V6wf_-ZVP"
      },
      "source": [
        "For the training you need to choose some parameters experimentally. Uncomment the parameters and test different values to see how the training results change.\n",
        "\n",
        "Parameters:\n",
        "\n",
        "*alpha*: learning rate of the algorithm\n",
        "\n",
        "*gamma*: discount factor of the algorithm\n",
        "\n",
        "*epsilon*: random action probability\n",
        "\n",
        "*n_episodes*: number of episode repetitions\n",
        "\n",
        "*n_iterations*: number of iterations per episode"
      ]
    },
    {
      "cell_type": "code",
      "execution_count": 21,
      "metadata": {
        "colab": {
          "base_uri": "https://localhost:8080/",
          "height": 320
        },
        "id": "eLtF2eDUul0O",
        "outputId": "dd269bd6-d2f7-45f9-bbbe-b2de96f49c8a"
      },
      "outputs": [
        {
          "name": "stdout",
          "output_type": "stream",
          "text": [
            "-62.54 -51.9 -50.56 -45.8 -35.76 -28.42 -24.08 -26.36 -18.9 -13.36 -16.52 -14.84 -16.6 -12.22 -13.94 -12.0 -11.4 -15.14 -12.64 -12.88 -12.76 -13.88 -11.62 -14.36 -14.06 -12.74 -15.42 -12.58 -11.76 -14.34 -13.26 -13.28 -12.36 -12.72 -10.76 -12.72 -12.98 -13.2 -12.72 -10.92 -12.42 -13.86 -15.3 -10.82 -12.8 -11.04 -11.62 -11.0 -11.44 -11.96 -11.96 -11.1 -12.72 -12.86 -11.78 -10.4 -13.0 -12.0 -12.08 -12.92 -11.84 -12.52 -11.86 -12.04 -12.82 -11.38 -12.38 -10.8 -13.16 -12.02 -12.1 -12.58 -13.64 -12.66 -11.62 -12.36 -12.42 -12.38 -12.88 -13.82 -13.38 -14.06 -13.48 -11.84 -10.86 -14.04 -12.62 -13.02 -11.98 -13.36 -11.82 -12.04 -11.44 -12.14 -12.46 -13.54 -10.52 -11.86 -12.52 -11.26 "
          ]
        },
        {
          "data": {
            "text/plain": [
              "[<matplotlib.lines.Line2D at 0x7fa1e8f7da60>]"
            ]
          },
          "execution_count": 21,
          "metadata": {},
          "output_type": "execute_result"
        },
        {
          "data": {
            "image/png": "[encoded data removed]",
            "text/plain": [
              "<Figure size 432x288 with 1 Axes>"
            ]
          },
          "metadata": {
            "needs_background": "light"
          },
          "output_type": "display_data"
        }
      ],
      "source": [
        "env = MapEnv(grid_map, np.array([3, 17]))\n",
        "alpha = 0.1\n",
        "gamma = 0.9\n",
        "epsilon = 0.7\n",
        "n_episodes = 20000\n",
        "n_iterations = 70\n",
        "ql = QLearning(env, alpha, gamma, epsilon, n_episodes, n_iterations)\n",
        "rewards = ql.train()\n",
        "plt.plot(rewards)"
      ]
    },
    {
      "cell_type": "markdown",
      "metadata": {
        "id": "hJWZblvUul0O"
      },
      "source": [
        "## Plot value function and optimal policy"
      ]
    },
    {
      "cell_type": "code",
      "execution_count": 22,
      "metadata": {
        "colab": {
          "base_uri": "https://localhost:8080/",
          "height": 521
        },
        "id": "w_z8566Oul0P",
        "outputId": "2a32bfa2-add5-4eae-85ec-747f880f2688"
      },
      "outputs": [
        {
          "data": {
            "text/plain": [
              "<matplotlib.colorbar.Colorbar at 0x7fa1e9086ac0>"
            ]
          },
          "execution_count": 22,
          "metadata": {},
          "output_type": "execute_result"
        },
        {
          "data": {
            "image/png": "[encoded data removed]",
            "text/plain": [
              "<Figure size 411.429x288 with 2 Axes>"
            ]
          },
          "metadata": {
            "needs_background": "light"
          },
          "output_type": "display_data"
        },
        {
          "data": {
            "image/png": "[encoded data removed]",
            "text/plain": [
              "<Figure size 411.429x288 with 2 Axes>"
            ]
          },
          "metadata": {
            "needs_background": "light"
          },
          "output_type": "display_data"
        }
      ],
      "source": [
        "v = ql.value_function()\n",
        "plt.matshow(v, cmap = \"jet\")\n",
        "plt.title('Value Function')\n",
        "plt.colorbar()\n",
        "\n",
        "policy = ql.get_optimal_policy()\n",
        "plt.matshow(policy, cmap = \"jet\")\n",
        "plt.title('Optimal Policy: 0 = up, 1 = down, 2 = left, 3 = right')\n",
        "plt.colorbar()\n"
      ]
    },
    {
      "cell_type": "markdown",
      "metadata": {
        "id": "G0HhgeIAul0Q"
      },
      "source": [
        "## Test current Policy"
      ]
    },
    {
      "cell_type": "markdown",
      "metadata": {
        "id": "To2nTQUn_HGM"
      },
      "source": [
        "Once the training is over, we can see what the robot has learnt to do. You can test it with other goal positions and other maps, to see of the policy is able to adapt to other situations."
      ]
    },
    {
      "cell_type": "code",
      "execution_count": 23,
      "metadata": {
        "colab": {
          "base_uri": "https://localhost:8080/",
          "height": 1000
        },
        "id": "YTD9Hsxiul0Q",
        "outputId": "08b19351-45a1-4b69-f46c-4226a064291d"
      },
      "outputs": [
        {
          "data": {
            "image/png": "[encoded data removed]",
            "text/plain": [
              "<Figure size 411.429x288 with 2 Axes>"
            ]
          },
          "metadata": {
            "needs_background": "light"
          },
          "output_type": "display_data"
        },
        {
          "data": {
            "image/png": "[encoded data removed]",
            "text/plain": [
              "<Figure size 411.429x288 with 2 Axes>"
            ]
          },
          "metadata": {
            "needs_background": "light"
          },
          "output_type": "display_data"
        },
        {
          "data": {
            "image/png": "[encoded data removed]",
            "text/plain": [
              "<Figure size 411.429x288 with 2 Axes>"
            ]
          },
          "metadata": {
            "needs_background": "light"
          },
          "output_type": "display_data"
        },
        {
          "data": {
            "image/png": "[encoded data removed]",
            "text/plain": [
              "<Figure size 411.429x288 with 2 Axes>"
            ]
          },
          "metadata": {
            "needs_background": "light"
          },
          "output_type": "display_data"
        },
        {
          "data": {
            "image/png": "[encoded data removed]",
            "text/plain": [
              "<Figure size 411.429x288 with 2 Axes>"
            ]
          },
          "metadata": {
            "needs_background": "light"
          },
          "output_type": "display_data"
        },
        {
          "data": {
            "image/png": "[encoded data removed]",
            "text/plain": [
              "<Figure size 411.429x288 with 2 Axes>"
            ]
          },
          "metadata": {
            "needs_background": "light"
          },
          "output_type": "display_data"
        }
      ],
      "source": [
        "env = MapEnv(grid_map, np.array([3, 17]))\n",
        "i = 0\n",
        "\n",
        "for j in range(1):\n",
        "    done = False\n",
        "    s = env.reset()\n",
        "    while not done:\n",
        "        a = policy[s[0], s[1]]\n",
        "        s, reward, done = env.step(a)\n",
        "        env.render(i)\n",
        "        i += 1"
      ]
    },
    {
      "cell_type": "markdown",
      "metadata": {
        "id": "KKfb29-0BkCV"
      },
      "source": [
        "## Submission\n",
        "\n",
        "You must deliver this Python Interactive Notebook. The file must have the name q_learning_YOUR_NAME.ipynb. Also, you must do a report commenting the problems you encountered, a discussion on how the parameters affect the training and conclusions for the results obtained.\n",
        "\n",
        "Make sure that all cells can be executed."
      ]
    }
  ],
  "metadata": {
    "colab": {
      "provenance": []
    },
    "interpreter": {
      "hash": "e8efbb1c39583597a5dcee4af3da3e7c09711a134bb0c2976f954bb2a2f0e8df"
    },
    "kernelspec": {
      "display_name": "Python 3.8.10 ('venv')",
      "language": "python",
      "name": "python3"
    },
    "language_info": {
      "codemirror_mode": {
        "name": "ipython",
        "version": 3
      },
      "file_extension": ".py",
      "mimetype": "text/x-python",
      "name": "python",
      "nbconvert_exporter": "python",
      "pygments_lexer": "ipython3",
      "version": "3.8.10"
    },
    "orig_nbformat": 4
  },
  "nbformat": 4,
  "nbformat_minor": 0
}
